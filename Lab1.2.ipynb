{
 "cells": [
  {
   "cell_type": "code",
   "execution_count": 2,
   "id": "aa606d3a",
   "metadata": {},
   "outputs": [
    {
     "name": "stdout",
     "output_type": "stream",
     "text": [
      "   Date/Time  CH0 (°C)\n",
      "0    34:35.9    16.233\n",
      "1    34:36.0    16.197\n",
      "2    34:36.1    14.666\n",
      "3    34:36.2     4.161\n",
      "4    34:36.3     1.956\n",
      "5    34:36.4     0.874\n",
      "6    34:36.5     0.486\n",
      "7    34:36.6     0.406\n",
      "8    34:36.7     0.336\n",
      "9    34:36.8     0.225\n",
      "10   34:36.9     0.269\n",
      "11   34:37.0     0.282\n",
      "12   34:37.1     0.314\n",
      "   Date/Time  CH0 (°C)\n",
      "0    35:26.5    16.575\n",
      "1    35:26.6    16.392\n",
      "2    35:26.7     4.866\n",
      "3    35:26.8     1.791\n",
      "4    35:26.9     0.783\n",
      "5    35:27.0     0.584\n",
      "6    35:27.1     0.577\n",
      "7    35:27.2     0.524\n",
      "8    35:27.3     0.620\n",
      "9    35:27.4     0.649\n",
      "10   35:27.5     0.684\n",
      "11   35:27.6     0.726\n",
      "12   35:27.7     0.765\n",
      "   Date/Time  CH0 (°C)\n",
      "0    35:26.5    16.575\n",
      "1    35:26.6    16.392\n",
      "2    35:26.7     4.866\n",
      "3    35:26.8     1.791\n",
      "4    35:26.9     0.783\n",
      "5    35:27.0     0.584\n",
      "6    35:27.1     0.577\n",
      "7    35:27.2     0.524\n",
      "8    35:27.3     0.620\n",
      "9    35:27.4     0.649\n",
      "10   35:27.5     0.684\n",
      "11   35:27.6     0.726\n",
      "12   35:27.7     0.765\n"
     ]
    }
   ],
   "source": [
    "import pandas as pd\n",
    "import matplotlib.pyplot as plt\n",
    "import numpy as np\n",
    "\n",
    "df1 = pd.read_csv(\"coldstep1.csv\",nrows=13,usecols=['Date/Time', 'CH0 (°C)'])\n",
    "print(df1)\n",
    "df2 = pd.read_csv(\"coldstep2.csv\",nrows=13,usecols=['Date/Time', 'CH0 (°C)'])\n",
    "print(df2)\n",
    "df3 = pd.read_csv(\"coldstep3.csv\",nrows=13,usecols=['Date/Time', 'CH0 (°C)'])\n",
    "print(df2)"
   ]
  },
  {
   "cell_type": "code",
   "execution_count": 3,
   "id": "09544085",
   "metadata": {},
   "outputs": [
    {
     "name": "stdout",
     "output_type": "stream",
     "text": [
      "[['34:36.3' 1.956]\n",
      " ['34:36.4' 0.874]\n",
      " ['34:36.5' 0.486]\n",
      " ['34:36.6' 0.406]\n",
      " ['34:36.7' 0.336]\n",
      " ['34:36.8' 0.225]\n",
      " ['34:36.9' 0.269]\n",
      " ['34:37.0' 0.282]\n",
      " ['34:37.1' 0.314]]\n",
      "[['35:26.5' 16.575]\n",
      " ['35:26.6' 16.392]\n",
      " ['35:26.7' 4.866]\n",
      " ['35:26.8' 1.791]\n",
      " ['35:26.9' 0.783]\n",
      " ['35:27.0' 0.584]\n",
      " ['35:27.1' 0.577]\n",
      " ['35:27.2' 0.524]\n",
      " ['35:27.3' 0.62]\n",
      " ['35:27.4' 0.649]\n",
      " ['35:27.5' 0.684]\n",
      " ['35:27.6' 0.726]\n",
      " ['35:27.7' 0.765]]\n",
      "[['35:58.6' 2.462]\n",
      " ['35:58.7' 1.123]\n",
      " ['35:58.8' 0.743]\n",
      " ['35:58.9' 0.526]\n",
      " ['35:59.0' 0.479]\n",
      " ['35:59.1' 0.425]\n",
      " ['35:59.2' 0.371]\n",
      " ['35:59.3' 0.314]\n",
      " ['35:59.4' 0.31]]\n"
     ]
    }
   ],
   "source": [
    "data1 = df1.values[4:18]\n",
    "data2 = df2.values\n",
    "data3 = df3.values[4:18]\n",
    "print(data1)\n",
    "print(data2)\n",
    "print(data3)"
   ]
  },
  {
   "cell_type": "code",
   "execution_count": 4,
   "id": "601ba988",
   "metadata": {},
   "outputs": [
    {
     "data": {
      "image/png": "[encoded data removed]",
      "text/plain": [
       "<Figure size 432x288 with 1 Axes>"
      ]
     },
     "metadata": {
      "needs_background": "light"
     },
     "output_type": "display_data"
    }
   ],
   "source": [
    "fig, ax = plt.subplots()\n",
    "\n",
    "df1.plot(x='Date/Time', y='CH0 (°C)', ax=ax, label='Trial 1')\n",
    "df2.plot(x='Date/Time', y='CH0 (°C)', ax=ax, label='Trial 2')\n",
    "df3.plot(x='Date/Time', y='CH0 (°C)', ax=ax, label='Trial 3')\n",
    "\n",
    "ax.legend()\n",
    "plt.ylabel('Tempuature (°C)')\n",
    "plt.xlabel('Time (s)')\n",
    "plt.show()"
   ]
  },
  {
   "cell_type": "code",
   "execution_count": 5,
   "id": "48adeb10",
   "metadata": {},
   "outputs": [
    {
     "name": "stdout",
     "output_type": "stream",
     "text": [
      "CH0 (°C)    1.225518\n",
      "dtype: float64\n",
      "CH0 (°C)    0.94748\n",
      "dtype: float64\n"
     ]
    }
   ],
   "source": [
    "files = ['500501.csv', '500502.csv', '500503.csv']\n",
    "\n",
    "dataframes = []\n",
    "\n",
    "for file in files:\n",
    "    df = pd.read_csv(file,header=6)\n",
    "    dataframes.append(df)\n",
    "\n",
    "df2 = df[['CH0 (°C)']].mean()\n",
    "std = df[['CH0 (°C)']].std()\n",
    "\n",
    "print(std)\n",
    "print(df2)"
   ]
  },
  {
   "cell_type": "code",
   "execution_count": 6,
   "id": "328e6a99",
   "metadata": {},
   "outputs": [
    {
     "name": "stdout",
     "output_type": "stream",
     "text": [
      "CH0 (°C)    0.052105\n",
      "dtype: float64\n",
      "CH0 (°C)    3.7896\n",
      "dtype: float64\n"
     ]
    }
   ],
   "source": [
    "files = ['500101.csv', '500102.csv', '500103.csv']\n",
    "\n",
    "dataframes = []\n",
    "\n",
    "for file in files:\n",
    "    df = pd.read_csv(file,header=6)\n",
    "    dataframes.append(df)\n",
    "\n",
    "df2 = df[['CH0 (°C)']].mean()\n",
    "std = df[['CH0 (°C)']].std()\n",
    "\n",
    "print(std)\n",
    "print(df2)"
   ]
  },
  {
   "cell_type": "code",
   "execution_count": 7,
   "id": "f9bf59d5",
   "metadata": {},
   "outputs": [
    {
     "name": "stdout",
     "output_type": "stream",
     "text": [
      "CH0 (°C)    0.142381\n",
      "dtype: float64\n",
      "CH0 (°C)    0.781682\n",
      "dtype: float64\n"
     ]
    }
   ],
   "source": [
    "files = ['60501.csv', '60502.csv', '60503.csv']\n",
    "\n",
    "dataframes = []\n",
    "\n",
    "for file in files:\n",
    "    df = pd.read_csv(file,header=6)\n",
    "    dataframes.append(df)\n",
    "\n",
    "df2 = df[['CH0 (°C)']].mean()\n",
    "std = df[['CH0 (°C)']].std()\n",
    "\n",
    "print(std)\n",
    "print(df2)"
   ]
  },
  {
   "cell_type": "code",
   "execution_count": 8,
   "id": "370099da",
   "metadata": {},
   "outputs": [
    {
     "name": "stdout",
     "output_type": "stream",
     "text": [
      "CH0 (°C)    0.275337\n",
      "dtype: float64\n",
      "CH0 (°C)    0.536375\n",
      "dtype: float64\n"
     ]
    }
   ],
   "source": [
    "files = ['60101.csv', '60102.csv', '60103.csv']\n",
    "\n",
    "dataframes = []\n",
    "\n",
    "for file in files:\n",
    "    df = pd.read_csv(file)\n",
    "    dataframes.append(df)\n",
    "\n",
    "df2 = df[['CH0 (°C)']].mean()\n",
    "std = df[['CH0 (°C)']].std()\n",
    "\n",
    "print(std)\n",
    "print(df2)"
   ]
  },
  {
   "cell_type": "code",
   "execution_count": 9,
   "id": "fe8be1d7",
   "metadata": {},
   "outputs": [
    {
     "name": "stdout",
     "output_type": "stream",
     "text": [
      "CH0 (°C)    0.168269\n",
      "dtype: float64\n",
      "CH0 (°C)    100.8963\n",
      "dtype: float64\n"
     ]
    }
   ],
   "source": [
    "files = ['salt1.csv', 'salt2.csv', 'salt3.csv']\n",
    "\n",
    "dataframes = []\n",
    "\n",
    "for file in files:\n",
    "    df = pd.read_csv(file, header = 6)\n",
    "    dataframes.append(df)\n",
    "\n",
    "df2 = df[['CH0 (°C)']].mean()\n",
    "std = df[['CH0 (°C)']].std()\n",
    "\n",
    "print(std)\n",
    "print(df2)"
   ]
  },
  {
   "cell_type": "code",
   "execution_count": 10,
   "id": "7542a394",
   "metadata": {},
   "outputs": [
    {
     "name": "stdout",
     "output_type": "stream",
     "text": [
      "CH0 (°C)    0.009523\n",
      "dtype: float64\n",
      "CH0 (°C)    0.168269\n",
      "dtype: float64\n"
     ]
    }
   ],
   "source": [
    "elev=df2-100\n",
    "n=(elev**(1/104.9))/104.9\n",
    "print(n)\n",
    "print(std)"
   ]
  },
  {
   "cell_type": "code",
   "execution_count": 24,
   "id": "7595677e",
   "metadata": {},
   "outputs": [
    {
     "name": "stdout",
     "output_type": "stream",
     "text": [
      "0.0020815874283853617\n"
     ]
    }
   ],
   "source": [
    "x=[1.28,1.60,1.42]\n",
    "a=np.mean(x)\n",
    "a=a*.001\n",
    "k=10e-5\n",
    "tau=a**2/(k*np.pi**2)\n",
    "print(tau)"
   ]
  },
  {
   "cell_type": "code",
   "execution_count": null,
   "id": "20b7019d",
   "metadata": {},
   "outputs": [],
   "source": []
  }
 ],
 "metadata": {
  "kernelspec": {
   "display_name": "Python 3 (ipykernel)",
   "language": "python",
   "name": "python3"
  },
  "language_info": {
   "codemirror_mode": {
    "name": "ipython",
    "version": 3
   },
   "file_extension": ".py",
   "mimetype": "text/x-python",
   "name": "python",
   "nbconvert_exporter": "python",
   "pygments_lexer": "ipython3",
   "version": "3.9.7"
  }
 },
 "nbformat": 4,
 "nbformat_minor": 5
}
