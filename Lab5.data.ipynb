{
 "cells": [
  {
   "cell_type": "code",
   "execution_count": 2,
   "id": "571f246d",
   "metadata": {
    "scrolled": false
   },
   "outputs": [],
   "source": [
    "import numpy as np\n",
    "import matplotlib.pyplot as plt\n",
    "import pandas as pd"
   ]
  },
  {
   "cell_type": "code",
   "execution_count": 3,
   "id": "ca45ec14",
   "metadata": {},
   "outputs": [],
   "source": [
    "def convertOtofloat(df, column_name):\n",
    "    if str(df[column_name].dtype) == 'object':\n",
    "        try:\n",
    "            df[column_name] = df[column_name].astype(float)\n",
    "        except ValueError:\n",
    "                \n",
    "            for j in range(len(df[column_name])):\n",
    "                if len(df[column_name]) == 0:\n",
    "                    df[column_name][j] = np.nan\n",
    "                else:\n",
    "                    df[column_name] = df[column_name][j]\n",
    "    return df\n",
    "\n",
    "def find_RMSE(exp_time, t_steps, cylinder_T, T_c):\n",
    "    residual = []\n",
    "    for i in range(len(exp_time)):\n",
    "        if np.round(1 % (t_steps[1]-t_steps[0]),decimals=5) != 0:\n",
    "            time = exp_time[i]\n",
    "            idx = np.where(np.abs(t_steps - time) == np.min(np.abs(t_steps - time)))\n",
    "            error = (cylinder_T[i] - T_c[idx])**2\n",
    "            residual = np.append(residual,error)\n",
    "        else:\n",
    "            time = exp_time[i]\n",
    "            idx = np.where(t_steps == time)\n",
    "            error = (cylinder_T[i] - T_c[idx])**2\n",
    "            residual = np.append(residual,error)\n",
    "    RMSE = np.sqrt(sum(residual)/len(residual))\n",
    "    return(RMSE)\n"
   ]
  },
  {
   "cell_type": "code",
   "execution_count": 4,
   "id": "50ae3f8d",
   "metadata": {},
   "outputs": [],
   "source": [
    "def h_analytical_solve(Data = 'Natural Convection.csv',start_off = 0,end_off = 0):\n",
    "    def fit_exp_linear(t, y, C=0):\n",
    "        y = y - C\n",
    "        y = np.log(y)\n",
    "        K, A_log = np.polyfit(t, y, 1)\n",
    "        A = np.exp(A_log)\n",
    "        return A, K\n",
    "\n",
    "    FC2_file = Data\n",
    "    raw_data_FC2 = pd.read_csv(FC2_file,header=6)\n",
    "    raw_array_FC2 = np.array(raw_data_FC2)\n",
    "\n",
    "    end = raw_array_FC2.shape[0] - end_off\n",
    "\n",
    "    exp_time = raw_array_FC2[start_off:end,0].astype(float)\n",
    "    exp_time = exp_time*5 - 1\n",
    "    cylinder_T = raw_array_FC2[start_off:end,2].astype(float)\n",
    "    ambient_T = raw_array_FC2[start_off:end,3]\n",
    "    \n",
    "    T_initial = cylinder_T.max() \n",
    "    T_ambient = np.mean(ambient_T)\n",
    "    time = exp_time.max() \n",
    "    \n",
    "    \n",
    "    new_T_cyl = (cylinder_T - T_ambient)/(T_initial - T_ambient)\n",
    "    plt.plot(exp_time,np.log(new_T_cyl))\n",
    "    A, k = fit_exp_linear(exp_time,new_T_cyl)\n",
    "    \n",
    "    time_range = np.arange(0,time,0.1)\n",
    "    plt.plot(time_range,k*time_range)\n",
    "    plt.plot(exp_time,np.log(new_T_cyl))\n",
    "    plt.title(\"Non Dimensional Temperature vs Time\")\n",
    "    plt.ylabel(\"Non Dimensional Temperature\")\n",
    "    plt.xlabel(\"Time\")\n",
    "\n",
    "    radius = 0.025/2\n",
    "    height = 0.06018\n",
    "\n",
    "    rho = 2770\n",
    "    Volume = np.pi * radius**2 * height\n",
    "    Cp = 896 \n",
    "    tau = -1/k\n",
    "    As = 2*np.pi*radius*height\n",
    "\n",
    "    h = (rho*Volume*Cp)/(tau*As)\n",
    "    print(\"Optimal h value:\",h)"
   ]
  },
  {
   "cell_type": "code",
   "execution_count": 5,
   "id": "5c0f6f9e",
   "metadata": {},
   "outputs": [
    {
     "name": "stdout",
     "output_type": "stream",
     "text": [
      "Bad things will happen!\n",
      "Bad things will happen!\n",
      "Bad things will happen!\n",
      "Bad things will happen!\n",
      "Bad things will happen!\n",
      "Bad things will happen!\n",
      "Bad things will happen!\n",
      "Bad things will happen!\n",
      "Bad things will happen!\n",
      "Bad things will happen!\n",
      "Bad things will happen!\n",
      "Bad things will happen!\n",
      "Bad things will happen!\n",
      "Bad things will happen!\n",
      "Bad things will happen!\n",
      "Bad things will happen!\n",
      "Bad things will happen!\n",
      "Bad things will happen!\n",
      "Bad things will happen!\n",
      "Bad things will happen!\n",
      "Bad things will happen!\n",
      "Bad things will happen!\n",
      "Bad things will happen!\n",
      "Bad things will happen!\n",
      "Bad things will happen!\n",
      "Bad things will happen!\n",
      "Bad things will happen!\n",
      "Bad things will happen!\n",
      "Bad things will happen!\n",
      "Bad things will happen!\n",
      "Bad things will happen!\n"
     ]
    },
    {
     "data": {
      "text/plain": [
       "[<matplotlib.lines.Line2D at 0x7f8bbaffea30>]"
      ]
     },
     "execution_count": 5,
     "metadata": {},
     "output_type": "execute_result"
    },
    {
     "data": {
      "image/png": "[encoded data removed]",
      "text/plain": [
       "<Figure size 432x288 with 1 Axes>"
      ]
     },
     "metadata": {
      "needs_background": "light"
     },
     "output_type": "display_data"
    }
   ],
   "source": [
    "k = 167 \n",
    "density = 2770 \n",
    "Cp = 896 \n",
    "    \n",
    "alfa = k/(density*Cp)\n",
    "\n",
    "radius = 0.025/2\n",
    "height = 0.06018\n",
    "    \n",
    "A_s = 2*np.pi*radius*height\n",
    "volume = np.pi * radius**2 * height\n",
    "mass = density * volume\n",
    "    \n",
    "FC2_file = 'Natural Convection.csv'\n",
    "raw_data_FC2 = pd.read_csv(FC2_file,header=6)\n",
    "raw_array_FC2 = np.array(raw_data_FC2)\n",
    "    \n",
    "exp_time = raw_array_FC2[:,0]*5 - 1\n",
    "cylinder_T = raw_array_FC2[:,2]\n",
    "ambient_T = raw_array_FC2[:,3]\n",
    "    \n",
    "    \n",
    "time = exp_time.max() \n",
    "ic = cylinder_T.max() \n",
    "    \n",
    "T_ambient = np.mean(ambient_T)\n",
    "    \n",
    "dr = np.arange(0.001,0.004,0.0005)\n",
    "dt = np.arange(.025,0.035,0.0005)\n",
    "    \n",
    "h = 30\n",
    "    \n",
    "stability_mat = np.zeros(((len(dr)-1)*(len(dt)-1),3))\n",
    "    \n",
    "for r in range(1,len(dr)):\n",
    "    r_idx = (r-1)*len(dt[1:])\n",
    "    for t in range(1,len(dt)):\n",
    "        idx = r_idx + t - 1\n",
    "        stability_mat[idx,0] = dr[r]\n",
    "        stability_mat[idx,1] = dt[t]\n",
    "        s = alfa * dt[t]/dr[r]**2\n",
    "        stability_mat[idx,2] = s\n",
    "        if (s>0.5):\n",
    "            print('Bad things will happen!')\n",
    "    \n",
    "all_RMSE = []           \n",
    "for dr_val in dr[1:]:\n",
    "    for dt_val in dt[1:]:\n",
    "    \n",
    "        x_steps = np.arange(0 ,radius + dr_val ,step = dr_val)\n",
    "        t_steps = np.arange(0 ,time + dt_val ,step = dt_val )\n",
    "            \n",
    "        n_x = len(x_steps)\n",
    "        n_t = len(t_steps)\n",
    "    \n",
    "    \n",
    "        T = np.zeros((n_t,n_x))\n",
    "        T[0] = ic\n",
    "            \n",
    "        for m in range(1,n_t):\n",
    "            for i in range(1,n_x-1):\n",
    "               a_i = s - s/(2*i)\n",
    "               b_i = 1 - 2*s\n",
    "               c_i = s + s/(2*i)\n",
    "            \n",
    "               T[m,i] = a_i * T[m-1,i-1] + b_i * T[m-1,i] + c_i * T[m-1,i+1]\n",
    "            \n",
    "               T[m,0] = T[m,1]\n",
    "            \n",
    "               H = -h * A_s *dt_val/(mass*Cp)\n",
    "               T[m,-1] = H*(T[m-1,-1] - T_ambient) + T[m-1,-1]\n",
    "        RMSE_temp = find_RMSE(exp_time, t_steps, cylinder_T, T[:,0])\n",
    "        all_RMSE = np.append(all_RMSE,RMSE_temp)       \n",
    "df_SR = pd.DataFrame(stability_mat, columns = ['dr','dt','s'])\n",
    "df_SR['RMSE'] = all_RMSE\n",
    "df_SR = convertOtofloat(df_SR, 'RMSE')\n",
    "df_SR['RMSE'] = df_SR['RMSE'].astype(float)\n",
    "df_SR5 = df_SR[df_SR['s']<0.5]\n",
    "    \n",
    "opt = df_SR5.loc[(df_SR5['RMSE'] == df_SR5['RMSE'].min())] \n",
    "dr_opt = np.array(opt['dr'])\n",
    "dt_opt = np.array(opt['dt'])\n",
    "S_opt = np.array(opt['s'])\n",
    "RMSE_opt = np.array(opt['RMSE'])\n",
    "    \n",
    "dtf = df_SR5.loc[(df_SR5['dr'] == dr_opt[0])]\n",
    "    \n",
    "dtf = dtf.dropna()\n",
    "    \n",
    "fig = plt.figure()\n",
    "ax = fig.add_subplot()\n",
    "ax.plot(dtf['dt'],dtf['RMSE'])"
   ]
  },
  {
   "cell_type": "code",
   "execution_count": 6,
   "id": "bec6be4e",
   "metadata": {},
   "outputs": [
    {
     "name": "stdout",
     "output_type": "stream",
     "text": [
      "Optimal dr value: [0.002]\n",
      "Optimal dt value: [0.0295]\n"
     ]
    }
   ],
   "source": [
    "print(\"Optimal dr value:\",dr_opt)\n",
    "print(\"Optimal dt value:\",dt_opt)"
   ]
  },
  {
   "cell_type": "code",
   "execution_count": 7,
   "id": "89837b5e",
   "metadata": {},
   "outputs": [
    {
     "name": "stdout",
     "output_type": "stream",
     "text": [
      "Optimal h value: 12.316525945573712\n"
     ]
    },
    {
     "data": {
      "image/png": "[encoded data removed]",
      "text/plain": [
       "<Figure size 432x288 with 1 Axes>"
      ]
     },
     "metadata": {
      "needs_background": "light"
     },
     "output_type": "display_data"
    }
   ],
   "source": [
    "h_analytical_solve(Data = 'Natural Convection.csv',start_off = 0,end_off = 250)"
   ]
  },
  {
   "cell_type": "code",
   "execution_count": 8,
   "id": "08c44e7e",
   "metadata": {},
   "outputs": [
    {
     "name": "stdout",
     "output_type": "stream",
     "text": [
      "Optimal h value: 37.3624000449915\n"
     ]
    },
    {
     "data": {
      "image/png": "[encoded data removed]",
      "text/plain": [
       "<Figure size 432x288 with 1 Axes>"
      ]
     },
     "metadata": {
      "needs_background": "light"
     },
     "output_type": "display_data"
    }
   ],
   "source": [
    "h_analytical_solve(Data = 'V 1ms.csv',start_off = 0,end_off = 100)"
   ]
  },
  {
   "cell_type": "code",
   "execution_count": 9,
   "id": "c51b41ff",
   "metadata": {},
   "outputs": [
    {
     "name": "stdout",
     "output_type": "stream",
     "text": [
      "Optimal h value: 42.12058944475348\n"
     ]
    },
    {
     "data": {
      "image/png": "[encoded data removed]",
      "text/plain": [
       "<Figure size 432x288 with 1 Axes>"
      ]
     },
     "metadata": {
      "needs_background": "light"
     },
     "output_type": "display_data"
    }
   ],
   "source": [
    "h_analytical_solve(Data = 'V 2ms.csv',start_off = 0,end_off = 100)"
   ]
  },
  {
   "cell_type": "code",
   "execution_count": 8,
   "id": "a986d4bc",
   "metadata": {},
   "outputs": [
    {
     "data": {
      "text/plain": [
       "43.759089497072736"
      ]
     },
     "execution_count": 8,
     "metadata": {},
     "output_type": "execute_result"
    }
   ],
   "source": [
    "#Emperical Calc nu = h D / k , h = k(C * Re ^ m * Pr ^ 1/3) / D\n",
    "mu = 1.82e-5\n",
    "k = .0167\n",
    "Pr = 0.71 ** (1/3)\n",
    "density = 1.19\n",
    "L = .0125\n",
    "D = .0025\n",
    "vel_1 = 1\n",
    "vel_2 = 2\n",
    "def Re(vel,rho,D,mu):\n",
    "    Re = vel * rho * D / mu\n",
    "    return Re\n",
    "Re = Re(vel_1,density,D,mu)\n",
    "\n",
    "if 0.4 < Re < 4:\n",
    "    C = .898\n",
    "    m = .330\n",
    "elif 4<Re<40:\n",
    "    C = .911\n",
    "    m = .385\n",
    "elif 40<Re<4000:\n",
    "    C = .683\n",
    "    m = .466\n",
    "elif 4000<Re<40000:\n",
    "    C = .193\n",
    "    m = .618\n",
    "elif 40000<Re<400000: \n",
    "    C = .027\n",
    "    m = .805\n",
    "else:\n",
    "    print(\"big error yo\")\n",
    "    \n",
    "def nu(Re,Pr,m,C):\n",
    "    nu = (Re**m) * C * Pr\n",
    "    return nu\n",
    "nu=nu(Re,Pr,m,C)\n",
    "\n",
    "def h(k,D,nu):\n",
    "    h = nu * k / D\n",
    "    return h\n",
    "h(k,D,nu)"
   ]
  },
  {
   "cell_type": "code",
   "execution_count": 20,
   "id": "7b661704",
   "metadata": {},
   "outputs": [
    {
     "name": "stdout",
     "output_type": "stream",
     "text": [
      "28.9119219634679\n"
     ]
    }
   ],
   "source": [
    "#Emperical Calc nu = h D / k , h = k(C * Re ^ m * Pr ^ 1/3) / D\n",
    "mu = 1.82e-5\n",
    "Pr = 0.71 ** (1/3)\n",
    "density = 1.19\n",
    "L = .0125\n",
    "D = .0025\n",
    "k=.0167\n",
    "vel_1 = 1\n",
    "vel_2 = 2\n",
    "def Re(vel,rho,D,mu):\n",
    "    Re = vel * rho * D / mu\n",
    "    return Re\n",
    "Re = Re(vel_2,density,D,mu)\n",
    "\n",
    "if 0.4 < Re < 4:\n",
    "    C = .898\n",
    "    m = .330\n",
    "elif 4<Re<40:\n",
    "    C = .911\n",
    "    m = .385\n",
    "elif 40<Re<4000:\n",
    "    C = .683\n",
    "    m = .466\n",
    "elif 4000<Re<40000:\n",
    "    C = .193\n",
    "    m = .618\n",
    "elif 40000<Re<400000: \n",
    "    C = .027\n",
    "    m = .805\n",
    "else:\n",
    "    print(\"big error yo\")\n",
    "    \n",
    "def nu(Re,Pr,m,C):\n",
    "    nu = (Re**m) * C * Pr\n",
    "    return nu\n",
    "nu=nu(Re,Pr,m,C)\n",
    "\n",
    "def h(k,D,nu):\n",
    "    h = nu * k / D\n",
    "    return h\n",
    "h(k,D,nu)"
   ]
  },
  {
   "cell_type": "code",
   "execution_count": 6,
   "id": "23ed516e",
   "metadata": {},
   "outputs": [
    {
     "name": "stdout",
     "output_type": "stream",
     "text": [
      "Total Heat Transfered = 3858.595790691482 Watts\n"
     ]
    }
   ],
   "source": [
    "#total heat transfered q = h(Ti-Tinf)\n",
    "Tinf = 23\n",
    "Ti_nc = 65\n",
    "Ti_fc1 = 75\n",
    "Ti_fc2 = Ti_nc\n",
    "h_nc = 12.316525945573712\n",
    "h_fc1 = 28.9119219634679\n",
    "h_fc2 = 43.759089497072736\n",
    "q_nc = h_nc*(Ti_nc - Tinf)\n",
    "q_fc1 = h_fc1*(Ti_fc1 - Tinf)\n",
    "q_fc2 = h_fc2*(Ti_fc2 - Tinf)\n",
    "print(\"Total Heat Transfered =\",q_nc+ q_fc1+q_fc2,\"Watts\")"
   ]
  },
  {
   "cell_type": "code",
   "execution_count": null,
   "id": "39e2ac55",
   "metadata": {},
   "outputs": [],
   "source": []
  }
 ],
 "metadata": {
  "kernelspec": {
   "display_name": "Python 3 (ipykernel)",
   "language": "python",
   "name": "python3"
  },
  "language_info": {
   "codemirror_mode": {
    "name": "ipython",
    "version": 3
   },
   "file_extension": ".py",
   "mimetype": "text/x-python",
   "name": "python",
   "nbconvert_exporter": "python",
   "pygments_lexer": "ipython3",
   "version": "3.9.7"
  }
 },
 "nbformat": 4,
 "nbformat_minor": 5
}
