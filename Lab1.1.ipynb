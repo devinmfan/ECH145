{
 "cells": [
  {
   "cell_type": "code",
   "execution_count": 1,
   "id": "d68c8def",
   "metadata": {},
   "outputs": [
    {
     "name": "stdout",
     "output_type": "stream",
     "text": [
      "CH0 (°C)    3.117794\n",
      "CH1 (°C)    1.507869\n",
      "dtype: float64\n",
      "CH0 (°C)    0.832923\n",
      "CH1 (°C)    0.713763\n",
      "dtype: float64\n",
      "0.8329231824416992\n"
     ]
    }
   ],
   "source": [
    "import pandas as pd\n",
    "import matplotlib.pyplot as plt\n",
    "import scipy.stats as si\n",
    "import numpy as np\n",
    "\n",
    "files = ['Cold1.csv', 'Cold2.csv', 'Cold3.csv']\n",
    "\n",
    "dataframes = []\n",
    "\n",
    "for file in files:\n",
    "    df = pd.read_csv(file)\n",
    "    dataframes.append(df)\n",
    "\n",
    "df2 = df[[\"CH0 (°C)\",\"CH1 (°C)\"]].mean()\n",
    "std = df[[\"CH0 (°C)\",\"CH1 (°C)\"]].std()\n",
    "\n",
    "print(std)\n",
    "print(df2)\n",
    "\n",
    "std_lc = std[0]\n",
    "std_cc = std[1]\n",
    "\n",
    "df2_lab_cold = df2[0]\n",
    "df2_com_cold = df2[1]"
   ]
  },
  {
   "cell_type": "code",
   "execution_count": 4,
   "id": "36672945",
   "metadata": {},
   "outputs": [
    {
     "name": "stdout",
     "output_type": "stream",
     "text": [
      "CH0 (°C)    0.127170\n",
      "CH1 (°C)    0.090631\n",
      "dtype: float64\n",
      "CH0 (°C)    100.016884\n",
      "CH1 (°C)    100.072382\n",
      "dtype: float64\n",
      "0.09063104763786657\n"
     ]
    }
   ],
   "source": [
    "files = ['hot1.csv', 'hot2.csv', 'hot3.csv']\n",
    "\n",
    "dataframes = []\n",
    "\n",
    "for file in files:\n",
    "    df = pd.read_csv(file)\n",
    "    dataframes.append(df)\n",
    "\n",
    "df2 = df[[\"CH0 (°C)\",\"CH1 (°C)\"]].mean()\n",
    "std = df[[\"CH0 (°C)\",\"CH1 (°C)\"]].std()\n",
    "\n",
    "print(std)\n",
    "print(df2)\n",
    "\n",
    "std_lh = std[0]\n",
    "std_ch = std[1]\n",
    "\n",
    "df2_lab_hot = df2[0]\n",
    "df2_com_hot = df2[1]\n",
    "print(std_ch)"
   ]
  },
  {
   "cell_type": "code",
   "execution_count": 5,
   "id": "9054490f",
   "metadata": {},
   "outputs": [
    {
     "name": "stdout",
     "output_type": "stream",
     "text": [
      "CH0 (°C)    20.478235\n",
      "CH1 (°C)    21.132767\n",
      "dtype: float64\n",
      "CH0 (°C)    0.075350\n",
      "CH1 (°C)    0.024802\n",
      "dtype: float64\n"
     ]
    }
   ],
   "source": [
    "files = ['room1.csv', 'room2.csv', 'room3.csv']\n",
    "\n",
    "dataframes = []\n",
    "\n",
    "for file in files:\n",
    "    df = pd.read_csv(file)\n",
    "    dataframes.append(df)\n",
    "\n",
    "df2 = df[[\"CH0 (°C)\",\"CH1 (°C)\"]].mean()\n",
    "std = df[[\"CH0 (°C)\",\"CH1 (°C)\"]].std()\n",
    "\n",
    "print(df2)\n",
    "print(std)\n",
    "\n",
    "std_lr = std[0]\n",
    "std_cr = std[1]\n",
    "\n",
    "df2_lab_room = df2[0]\n",
    "df2_com_room = df2[1]"
   ]
  },
  {
   "cell_type": "code",
   "execution_count": 6,
   "id": "245c2ef1",
   "metadata": {},
   "outputs": [
    {
     "name": "stdout",
     "output_type": "stream",
     "text": [
      "CH2 (µV)    89.2776\n",
      "dtype: float64\n",
      "CH2 (µV)   -1009.831603\n",
      "dtype: float64\n"
     ]
    }
   ],
   "source": [
    "files = ['cvc1.csv', 'cvc2.csv', 'cvc3.csv']\n",
    "\n",
    "dataframes = []\n",
    "\n",
    "for file in files:\n",
    "    df = pd.read_csv(file)\n",
    "    dataframes.append(df)\n",
    "\n",
    "df2 = df[[\"CH2 (µV)\"]].mean()\n",
    "std = df[[\"CH2 (µV)\"]].std()\n",
    "print(std)\n",
    "\n",
    "std_cvc = std[0]\n",
    "\n",
    "print(df2)\n",
    "df2_cvc = df2[0]"
   ]
  },
  {
   "cell_type": "code",
   "execution_count": 7,
   "id": "2d5b21b5",
   "metadata": {},
   "outputs": [
    {
     "name": "stdout",
     "output_type": "stream",
     "text": [
      "CH2 (µV)    2.249115\n",
      "dtype: float64\n",
      "CH2 (µV)   -181.887319\n",
      "dtype: float64\n"
     ]
    }
   ],
   "source": [
    "files = ['cvr1.csv', 'cvr2.csv', 'cvr3.csv']\n",
    "\n",
    "dataframes = []\n",
    "\n",
    "for file in files:\n",
    "    df = pd.read_csv(file)\n",
    "    dataframes.append(df)\n",
    "\n",
    "df2 = df[[\"CH2 (µV)\"]].mean()\n",
    "std = df[[\"CH2 (µV)\"]].std()\n",
    "print(std)\n",
    "\n",
    "std_cvr = std[0]\n",
    "\n",
    "print(df2)\n",
    "df2_cvr = df2[0]"
   ]
  },
  {
   "cell_type": "code",
   "execution_count": 8,
   "id": "12921f33",
   "metadata": {},
   "outputs": [
    {
     "name": "stdout",
     "output_type": "stream",
     "text": [
      "CH2 (µV)    192.588988\n",
      "dtype: float64\n",
      "CH2 (µV)    3007.543358\n",
      "dtype: float64\n"
     ]
    }
   ],
   "source": [
    "files = ['cvh1.csv', 'cvh2.csv', 'cvh3.csv']\n",
    "\n",
    "dataframes = []\n",
    "\n",
    "for file in files:\n",
    "    df = pd.read_csv(file)\n",
    "    dataframes.append(df)\n",
    "\n",
    "df2 = df[[\"CH2 (µV)\"]].mean()\n",
    "std = df[[\"CH2 (µV)\"]].std()\n",
    "print(std)\n",
    "\n",
    "std_cvh = std[0]\n",
    "print(df2)\n",
    "df2_cvh = df2[0]"
   ]
  },
  {
   "cell_type": "code",
   "execution_count": 9,
   "id": "90d6a091",
   "metadata": {},
   "outputs": [
    {
     "name": "stdout",
     "output_type": "stream",
     "text": [
      "CH2 (µV)    0.885931\n",
      "dtype: float64\n",
      "CH2 (µV)   -1059.679965\n",
      "dtype: float64\n"
     ]
    }
   ],
   "source": [
    "files = ['hvc1.csv', 'hvc2.csv', 'hvc3.csv']\n",
    "\n",
    "dataframes = []\n",
    "\n",
    "for file in files:\n",
    "    df = pd.read_csv(file)\n",
    "    dataframes.append(df)\n",
    "\n",
    "df2 = df[[\"CH2 (µV)\"]].mean()\n",
    "std = df[[\"CH2 (µV)\"]].std()\n",
    "print(std)\n",
    "\n",
    "std_hvc = std[0]\n",
    "print(df2)\n",
    "df2_hvc = df2[0]"
   ]
  },
  {
   "cell_type": "code",
   "execution_count": 10,
   "id": "dba24cc6",
   "metadata": {},
   "outputs": [
    {
     "name": "stdout",
     "output_type": "stream",
     "text": [
      "CH2 (µV)    7.586416\n",
      "dtype: float64\n",
      "CH2 (µV)   -223.535785\n",
      "dtype: float64\n"
     ]
    }
   ],
   "source": [
    "files = ['hvr1.csv', 'hvr2.csv', 'hvr3.csv']\n",
    "\n",
    "dataframes = []\n",
    "\n",
    "for file in files:\n",
    "    df = pd.read_csv(file)\n",
    "    dataframes.append(df)\n",
    "\n",
    "df2 = df[[\"CH2 (µV)\"]].mean()\n",
    "std = df[[\"CH2 (µV)\"]].std()\n",
    "print(std)\n",
    "\n",
    "std_hvr = std[0]\n",
    "print(df2)\n",
    "df2_hvr = df2[0]"
   ]
  },
  {
   "cell_type": "code",
   "execution_count": 11,
   "id": "0ba096f8",
   "metadata": {},
   "outputs": [
    {
     "name": "stdout",
     "output_type": "stream",
     "text": [
      "CH2 (µV)    559.888669\n",
      "dtype: float64\n",
      "CH2 (µV)    2926.933425\n",
      "dtype: float64\n"
     ]
    }
   ],
   "source": [
    "files = ['hvh1.csv', 'hvh2.csv', 'hvh3.csv']\n",
    "\n",
    "dataframes = []\n",
    "\n",
    "for file in files:\n",
    "    df = pd.read_csv(file)\n",
    "    dataframes.append(df)\n",
    "\n",
    "df2 = df[[\"CH2 (µV)\"]].mean()\n",
    "std = df[[\"CH2 (µV)\"]].std()\n",
    "print(std)\n",
    "\n",
    "std_hvh = std[0]\n",
    "print(df2)\n",
    "df2_hvh = df2[0]"
   ]
  },
  {
   "cell_type": "code",
   "execution_count": 12,
   "id": "3c8ea4f2",
   "metadata": {},
   "outputs": [
    {
     "data": {
      "image/png": "[encoded data removed]",
      "text/plain": [
       "<Figure size 432x288 with 1 Axes>"
      ]
     },
     "metadata": {
      "needs_background": "light"
     },
     "output_type": "display_data"
    }
   ],
   "source": [
    "ycom=[df2_cvc, df2_cvr, df2_cvh]\n",
    "xcom=[df2_com_cold,df2_com_room,df2_com_hot]\n",
    "plt.scatter(xcom,ycom, color='k')\n",
    "reg = si.linregress(xcom,ycom)\n",
    "slope = reg.slope\n",
    "intercept = reg.intercept\n",
    "r = reg.rvalue\n",
    "label = 'y = {}x + {}'.format(round(slope,2),round(intercept,2))\n",
    "label2 = r\n",
    "plt.plot(xcom , [i*slope + intercept for i in xcom], label=label)\n",
    "xerrcom = (std_cc,std_cr,std_ch)\n",
    "yerrcom= (std_cvc,std_cvr,std_cvh)\n",
    "plt.errorbar(xcom,ycom, xerr=xerrcom, yerr=yerrcom, fmt='o')\n",
    "plt.title(\"Commercial Made Thermocouple\")\n",
    "plt.xlabel(\"Tempuature (°C)\")\n",
    "plt.ylabel(\"Voltage (µV)\")\n",
    "plt.legend(title=\"R^2: {:.10f}\".format(r))\n",
    "plt.show()"
   ]
  },
  {
   "cell_type": "code",
   "execution_count": 13,
   "id": "6068c002",
   "metadata": {},
   "outputs": [
    {
     "data": {
      "image/png": "[encoded data removed]",
      "text/plain": [
       "<Figure size 432x288 with 1 Axes>"
      ]
     },
     "metadata": {
      "needs_background": "light"
     },
     "output_type": "display_data"
    }
   ],
   "source": [
    "ylab=[df2_hvc,df2_hvr,df2_hvh]\n",
    "xlab=[df2_lab_cold, df2_lab_room,df2_lab_hot]\n",
    "plt.scatter(xlab,ylab,color='k')\n",
    "reg = si.linregress(xlab,ylab)\n",
    "slope = reg.slope\n",
    "intercept = reg.intercept\n",
    "r=reg.rvalue\n",
    "label= 'y = {}x + {}'.format(round(slope,2),round(intercept,2))\n",
    "plt.plot(xlab , [i*slope + intercept for i in xlab], label=label)\n",
    "xerrlab = (std_lc,std_lr,std_lh)\n",
    "yerrlab= (std_hvc,std_hvr,std_hvh)\n",
    "plt.errorbar(xlab,ylab, xerr=xerrlab, yerr=yerrlab, fmt='o',label='error')\n",
    "plt.legend(title=\"R^2: {:.10f}\".format(r))\n",
    "plt.title(\"Lab Made Thermocouple\")\n",
    "plt.xlabel(\"Tempuature (°C)\")\n",
    "plt.ylabel(\"Voltage (µV)\")\n",
    "plt.show()"
   ]
  },
  {
   "cell_type": "code",
   "execution_count": 14,
   "id": "9ce4cdbd",
   "metadata": {},
   "outputs": [],
   "source": [
    "com_t = np.array(xcom)\n",
    "com_v = np.array(ycom)\n",
    "com_t_err = np.array(xerrcom)\n",
    "com_v_err = np.array(yerrcom)\n",
    "lab_t = np.array(xlab)\n",
    "lab_v = np.array(ylab)\n",
    "lab_t_err = np.array(xerrlab)\n",
    "lab_v_err = np.array(yerrlab)\n",
    "def slope_err(temp,vol,temp_err,vol_err) :\n",
    "    w = 1/ (vol_err)\n",
    "    A = np.sum(np.multiply (w**2, temp**2))\n",
    "    B = np.sum(np.multiply (w**2, temp))\n",
    "    C = np.sum(w**2)\n",
    "    D = A*C-(B**2)\n",
    "    G = np.sum(np.multiply(w**2,np.multiply (temp, vol)))\n",
    "    H = np.sum(np.multiply(w**2,vol))\n",
    "    m = ((C*G) - (B*H))/D\n",
    "    b = ((A*H) - (B*G))/D\n",
    "    P = np.sum(np.multiply(w**4,np.multiply(temp**2, (vol_err+(np.multiply (m**2, temp_err**2))))))\n",
    "    R = np.sum(np.multiply (w**4, (vol_err + (np.multiply (m**2, temp_err**2)))))\n",
    "    Q = np.sum(np.multiply(w**4, np.multiply (temp, (vol_err+ (np.multiply (m**2, temp_err**2))))))\n",
    "    m_err = (((C**2*P) -(2*B*C*Q) + (B**2*R)) / (D*2))** (1/2)\n",
    "    b_err = (((B**2*P) -(2*A*B*Q) +(A**2*R)) / (D*2))** (1/2)\n",
    "    return(m,b,m_err,b_err)\n",
    "\n",
    "Hslo,Hint,Hsloerr,Hinterr = slope_err(lab_t, lab_v,lab_t_err,lab_v_err)\n",
    "Cslo,Cint,Csloerr,Cinterr = slope_err(com_t, com_v,com_t_err,com_v_err)"
   ]
  },
  {
   "cell_type": "code",
   "execution_count": 16,
   "id": "54d24396",
   "metadata": {},
   "outputs": [
    {
     "data": {
      "image/png": "[encoded data removed]",
      "text/plain": [
       "<Figure size 432x288 with 1 Axes>"
      ]
     },
     "metadata": {
      "needs_background": "light"
     },
     "output_type": "display_data"
    }
   ],
   "source": [
    "linspa1=np.linspace(-10,100,1000)\n",
    "comslo=Cslo*linspa1+Cint\n",
    "linspa2=np.linspace(-10,100,1000)\n",
    "labslo=Hslo*linspa2+Hint\n",
    "label= 'y = {}x + {}'.format(round(Hslo,2),round(Hint,2))\n",
    "plt.plot(comslo,labslo, label=label)\n",
    "plt.legend()\n",
    "plt.title(\"Weighted Error Slope\")\n",
    "plt.xlabel(\"Tempuature (°C)\")\n",
    "plt.ylabel(\"Voltage (µV)\")\n",
    "plt.show()"
   ]
  },
  {
   "cell_type": "code",
   "execution_count": null,
   "id": "2b8da840",
   "metadata": {},
   "outputs": [],
   "source": []
  }
 ],
 "metadata": {
  "kernelspec": {
   "display_name": "Python 3 (ipykernel)",
   "language": "python",
   "name": "python3"
  },
  "language_info": {
   "codemirror_mode": {
    "name": "ipython",
    "version": 3
   },
   "file_extension": ".py",
   "mimetype": "text/x-python",
   "name": "python",
   "nbconvert_exporter": "python",
   "pygments_lexer": "ipython3",
   "version": "3.9.7"
  }
 },
 "nbformat": 4,
 "nbformat_minor": 5
}
